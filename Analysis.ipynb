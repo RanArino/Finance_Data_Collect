{
 "cells": [
  {
   "cell_type": "markdown",
   "metadata": {
    "toc": true
   },
   "source": [
    "<h1>Table of Contents<span class=\"tocSkip\"></span></h1>\n",
    "<div class=\"toc\"><ul class=\"toc-item\"><li><span><a href=\"#Daily-Run-function\" data-toc-modified-id=\"Daily-Run-function-1\"><span class=\"toc-item-num\">1&nbsp;&nbsp;</span>Daily Run function</a></span><ul class=\"toc-item\"><li><span><a href=\"#U.S-Major-Indexes\" data-toc-modified-id=\"U.S-Major-Indexes-1.1\"><span class=\"toc-item-num\">1.1&nbsp;&nbsp;</span><a href=\"https://ca.finance.yahoo.com/world-indices\" rel=\"nofollow\" target=\"_blank\">U.S Major Indexes</a></a></span></li><li><span><a href=\"#VIX-&amp;-VXN\" data-toc-modified-id=\"VIX-&amp;-VXN-1.2\"><span class=\"toc-item-num\">1.2&nbsp;&nbsp;</span><a href=\"https://ca.finance.yahoo.com/quote/%5EVIX/\" rel=\"nofollow\" target=\"_blank\">VIX</a> &amp; <a href=\"https://ca.finance.yahoo.com/quote/%5EVXN/\" rel=\"nofollow\" target=\"_blank\">VXN</a></a></span></li><li><span><a href=\"#SKEW\" data-toc-modified-id=\"SKEW-1.3\"><span class=\"toc-item-num\">1.3&nbsp;&nbsp;</span><a href=\"https://finance.yahoo.com/quote/%5ESKEW/\" rel=\"nofollow\" target=\"_blank\">SKEW</a></a></span></li><li><span><a href=\"#VIX-Different-Futures'-Values\" data-toc-modified-id=\"VIX-Different-Futures'-Values-1.4\"><span class=\"toc-item-num\">1.4&nbsp;&nbsp;</span><a href=\"https://www.barchart.com/futures/quotes/VIY00/futures-prices\" rel=\"nofollow\" target=\"_blank\">VIX Different Futures' Values</a></a></span></li><li><span><a href=\"#S&amp;P500-Sectors\" data-toc-modified-id=\"S&amp;P500-Sectors-1.5\"><span class=\"toc-item-num\">1.5&nbsp;&nbsp;</span>S&amp;P500 Sectors</a></span></li><li><span><a href=\"#S&amp;P500-Nasdaq100-Options\" data-toc-modified-id=\"S&amp;P500-Nasdaq100-Options-1.6\"><span class=\"toc-item-num\">1.6&nbsp;&nbsp;</span>S&amp;P500 Nasdaq100 Options</a></span></li><li><span><a href=\"#Put/Call-Ratio\" data-toc-modified-id=\"Put/Call-Ratio-1.7\"><span class=\"toc-item-num\">1.7&nbsp;&nbsp;</span>Put/Call Ratio</a></span></li></ul></li><li><span><a href=\"#Weekly-Run-Function\" data-toc-modified-id=\"Weekly-Run-Function-2\"><span class=\"toc-item-num\">2&nbsp;&nbsp;</span>Weekly Run Function</a></span><ul class=\"toc-item\"><li><span><a href=\"#NAAIM-Number\" data-toc-modified-id=\"NAAIM-Number-2.1\"><span class=\"toc-item-num\">2.1&nbsp;&nbsp;</span><a href=\"https://www.naaim.org/programs/naaim-exposure-index/\" rel=\"nofollow\" target=\"_blank\">NAAIM Number</a></a></span></li><li><span><a href=\"#AAII\" data-toc-modified-id=\"AAII-2.2\"><span class=\"toc-item-num\">2.2&nbsp;&nbsp;</span><a href=\"https://www.aaii.com/sentimentsurvey\" rel=\"nofollow\" target=\"_blank\">AAII</a></a></span></li></ul></li><li><span><a href=\"#Monthly-Run-Function\" data-toc-modified-id=\"Monthly-Run-Function-3\"><span class=\"toc-item-num\">3&nbsp;&nbsp;</span>Monthly Run Function</a></span><ul class=\"toc-item\"><li><span><a href=\"#S&amp;P500-PER-&amp;-Shiller-PER\" data-toc-modified-id=\"S&amp;P500-PER-&amp;-Shiller-PER-3.1\"><span class=\"toc-item-num\">3.1&nbsp;&nbsp;</span><a href=\"https://www.multpl.com/s-p-500-pe-ratio/table/by-month\" rel=\"nofollow\" target=\"_blank\">S&amp;P500 PER</a> &amp; <a href=\"https://www.multpl.com/shiller-pe/table/by-month\" rel=\"nofollow\" target=\"_blank\">Shiller PER</a></a></span></li><li><span><a href=\"#Margin-Debt\" data-toc-modified-id=\"Margin-Debt-3.2\"><span class=\"toc-item-num\">3.2&nbsp;&nbsp;</span><a href=\"https://www.finra.org/investors/learn-to-invest/advanced-investing/margin-statistics\" rel=\"nofollow\" target=\"_blank\">Margin Debt</a></a></span></li></ul></li><li><span><a href=\"#Functions-(Finance_Function)\" data-toc-modified-id=\"Functions-(Finance_Function)-4\"><span class=\"toc-item-num\">4&nbsp;&nbsp;</span>Functions (Finance_Function)</a></span></li><li><span><a href=\"#Web-Scraping-Idea\" data-toc-modified-id=\"Web-Scraping-Idea-5\"><span class=\"toc-item-num\">5&nbsp;&nbsp;</span>Web Scraping Idea</a></span></li></ul></div>"
   ]
  },
  {
   "cell_type": "markdown",
   "metadata": {},
   "source": [
    "Chrome Driver: https://googlechromelabs.github.io/chrome-for-testing/"
   ]
  },
  {
   "cell_type": "code",
   "execution_count": 1,
   "metadata": {},
   "outputs": [],
   "source": [
    "import warnings\n",
    "warnings.filterwarnings('ignore')\n",
    "\n",
    "import pandas as pd\n",
    "import matplotlib.pyplot as plt\n",
    "import xlwings as xw\n",
    "import datetime\n",
    "from dateutil.relativedelta import relativedelta\n",
    "import yfinance as yf\n",
    "import os\n",
    "import time\n",
    "import random\n",
    "\n",
    "import Get_Data as GD"
   ]
  },
  {
   "cell_type": "code",
   "execution_count": 2,
   "metadata": {},
   "outputs": [
    {
     "data": {
      "text/plain": [
       "<module 'Get_Data' from 'c:\\\\Users\\\\runru\\\\Analysis_Data_Python\\\\Finance\\\\Get_Data.py'>"
      ]
     },
     "execution_count": 2,
     "metadata": {},
     "output_type": "execute_result"
    }
   ],
   "source": [
    "import importlib\n",
    "importlib.reload(GD)\n"
   ]
  },
  {
   "cell_type": "markdown",
   "metadata": {},
   "source": [
    "# Daily Run function"
   ]
  },
  {
   "cell_type": "markdown",
   "metadata": {},
   "source": [
    "## [U.S Major Indexes](https://ca.finance.yahoo.com/world-indices)"
   ]
  },
  {
   "cell_type": "code",
   "execution_count": 3,
   "metadata": {},
   "outputs": [
    {
     "name": "stderr",
     "output_type": "stream",
     "text": [
      "[*********************100%%**********************]  1 of 1 completed\n",
      "[*********************100%%**********************]  1 of 1 completed\n",
      "[*********************100%%**********************]  1 of 1 completed\n",
      "[*********************100%%**********************]  1 of 1 completed\n",
      "[*********************100%%**********************]  1 of 1 completed\n",
      "[*********************100%%**********************]  1 of 1 completed\n",
      "[*********************100%%**********************]  1 of 1 completed\n",
      "[*********************100%%**********************]  1 of 1 completed\n"
     ]
    },
    {
     "name": "stdout",
     "output_type": "stream",
     "text": [
      "Added data:\n"
     ]
    },
    {
     "data": {
      "text/html": [
       "<div>\n",
       "<style scoped>\n",
       "    .dataframe tbody tr th:only-of-type {\n",
       "        vertical-align: middle;\n",
       "    }\n",
       "\n",
       "    .dataframe tbody tr th {\n",
       "        vertical-align: top;\n",
       "    }\n",
       "\n",
       "    .dataframe thead th {\n",
       "        text-align: right;\n",
       "    }\n",
       "</style>\n",
       "<table border=\"1\" class=\"dataframe\">\n",
       "  <thead>\n",
       "    <tr style=\"text-align: right;\">\n",
       "      <th></th>\n",
       "      <th></th>\n",
       "      <th>Open</th>\n",
       "      <th>High</th>\n",
       "      <th>Low</th>\n",
       "      <th>Close</th>\n",
       "      <th>Change%</th>\n",
       "      <th>Volume</th>\n",
       "    </tr>\n",
       "    <tr>\n",
       "      <th>Ticker</th>\n",
       "      <th>Date</th>\n",
       "      <th></th>\n",
       "      <th></th>\n",
       "      <th></th>\n",
       "      <th></th>\n",
       "      <th></th>\n",
       "      <th></th>\n",
       "    </tr>\n",
       "  </thead>\n",
       "  <tbody>\n",
       "    <tr>\n",
       "      <th>^GSPC</th>\n",
       "      <th>2024-04-25</th>\n",
       "      <td>5019.879883</td>\n",
       "      <td>5057.750000</td>\n",
       "      <td>4990.580078</td>\n",
       "      <td>5048.419922</td>\n",
       "      <td>-0.46</td>\n",
       "      <td>68851100</td>\n",
       "    </tr>\n",
       "    <tr>\n",
       "      <th>^NDX</th>\n",
       "      <th>2024-04-25</th>\n",
       "      <td>17205.279297</td>\n",
       "      <td>17474.460938</td>\n",
       "      <td>17172.419922</td>\n",
       "      <td>17430.500000</td>\n",
       "      <td>-0.55</td>\n",
       "      <td>57008700</td>\n",
       "    </tr>\n",
       "    <tr>\n",
       "      <th>^DJI</th>\n",
       "      <th>2024-04-25</th>\n",
       "      <td>38052.089844</td>\n",
       "      <td>38157.218750</td>\n",
       "      <td>37754.378906</td>\n",
       "      <td>38085.800781</td>\n",
       "      <td>-0.98</td>\n",
       "      <td>4670200</td>\n",
       "    </tr>\n",
       "    <tr>\n",
       "      <th>^RUT</th>\n",
       "      <th>2024-04-25</th>\n",
       "      <td>1980.530029</td>\n",
       "      <td>1984.489990</td>\n",
       "      <td>1957.819946</td>\n",
       "      <td>1981.119995</td>\n",
       "      <td>-0.72</td>\n",
       "      <td>979700</td>\n",
       "    </tr>\n",
       "  </tbody>\n",
       "</table>\n",
       "</div>"
      ],
      "text/plain": [
       "                           Open          High           Low         Close  \\\n",
       "Ticker Date                                                                 \n",
       "^GSPC  2024-04-25   5019.879883   5057.750000   4990.580078   5048.419922   \n",
       "^NDX   2024-04-25  17205.279297  17474.460938  17172.419922  17430.500000   \n",
       "^DJI   2024-04-25  38052.089844  38157.218750  37754.378906  38085.800781   \n",
       "^RUT   2024-04-25   1980.530029   1984.489990   1957.819946   1981.119995   \n",
       "\n",
       "                   Change%    Volume  \n",
       "Ticker Date                           \n",
       "^GSPC  2024-04-25    -0.46  68851100  \n",
       "^NDX   2024-04-25    -0.55  57008700  \n",
       "^DJI   2024-04-25    -0.98   4670200  \n",
       "^RUT   2024-04-25    -0.72    979700  "
      ]
     },
     "execution_count": 3,
     "metadata": {},
     "output_type": "execute_result"
    }
   ],
   "source": [
    "file_name = 'Stock_Indices.xlsx'\n",
    "tickers = ['^GSPC', '^NDX', '^DJI', '^RUT'] #S&P500, Nasdaq100, Dow Jones, Russell 2000\n",
    "volumes = ['SPY', 'QQQ', 'DIA', 'IWN'] # corresponding ETF\n",
    "columns = ['Date', 'Open', 'High', 'Low',  'Close']\n",
    "\n",
    "major_index = GD.get_yahoo_finance_data(file_name = file_name,\n",
    "                                        tickers = tickers,\n",
    "                                        daily_change = 'E', # location of close price in excel\n",
    "                                        volumes = volumes,\n",
    "                                        columns = columns)\n",
    "major_index"
   ]
  },
  {
   "cell_type": "markdown",
   "metadata": {},
   "source": [
    "## [VIX](https://ca.finance.yahoo.com/quote/%5EVIX/) & [VXN](https://ca.finance.yahoo.com/quote/%5EVXN/)"
   ]
  },
  {
   "cell_type": "code",
   "execution_count": 4,
   "metadata": {},
   "outputs": [
    {
     "name": "stderr",
     "output_type": "stream",
     "text": [
      "[*********************100%%**********************]  1 of 1 completed\n",
      "[*********************100%%**********************]  1 of 1 completed\n"
     ]
    },
    {
     "name": "stdout",
     "output_type": "stream",
     "text": [
      "Added data:\n"
     ]
    },
    {
     "data": {
      "text/html": [
       "<div>\n",
       "<style scoped>\n",
       "    .dataframe tbody tr th:only-of-type {\n",
       "        vertical-align: middle;\n",
       "    }\n",
       "\n",
       "    .dataframe tbody tr th {\n",
       "        vertical-align: top;\n",
       "    }\n",
       "\n",
       "    .dataframe thead th {\n",
       "        text-align: right;\n",
       "    }\n",
       "</style>\n",
       "<table border=\"1\" class=\"dataframe\">\n",
       "  <thead>\n",
       "    <tr style=\"text-align: right;\">\n",
       "      <th></th>\n",
       "      <th></th>\n",
       "      <th>Open</th>\n",
       "      <th>High</th>\n",
       "      <th>Low</th>\n",
       "      <th>Close</th>\n",
       "      <th>Change%</th>\n",
       "    </tr>\n",
       "    <tr>\n",
       "      <th>Ticker</th>\n",
       "      <th>Date</th>\n",
       "      <th></th>\n",
       "      <th></th>\n",
       "      <th></th>\n",
       "      <th></th>\n",
       "      <th></th>\n",
       "    </tr>\n",
       "  </thead>\n",
       "  <tbody>\n",
       "    <tr>\n",
       "      <th>^VIX</th>\n",
       "      <th>2024-04-25</th>\n",
       "      <td>16.250000</td>\n",
       "      <td>17.549999</td>\n",
       "      <td>15.270000</td>\n",
       "      <td>15.370000</td>\n",
       "      <td>-3.76</td>\n",
       "    </tr>\n",
       "    <tr>\n",
       "      <th>^VXN</th>\n",
       "      <th>2024-04-25</th>\n",
       "      <td>21.139999</td>\n",
       "      <td>21.610001</td>\n",
       "      <td>20.280001</td>\n",
       "      <td>20.370001</td>\n",
       "      <td>-0.29</td>\n",
       "    </tr>\n",
       "  </tbody>\n",
       "</table>\n",
       "</div>"
      ],
      "text/plain": [
       "                        Open       High        Low      Close  Change%\n",
       "Ticker Date                                                           \n",
       "^VIX   2024-04-25  16.250000  17.549999  15.270000  15.370000    -3.76\n",
       "^VXN   2024-04-25  21.139999  21.610001  20.280001  20.370001    -0.29"
      ]
     },
     "execution_count": 4,
     "metadata": {},
     "output_type": "execute_result"
    }
   ],
   "source": [
    "file_name = 'Contrarian_Indicators.xlsx'\n",
    "tickers = ['^VIX', '^VXN']\n",
    "columns = ['Date', 'Open', 'High', 'Low', 'Close']\n",
    "\n",
    "GD.get_yahoo_finance_data(file_name = file_name,\n",
    "                          tickers = tickers,\n",
    "                          daily_change = 'E', # location of close price in excel\n",
    "                          volumes=None,\n",
    "                          columns = columns)"
   ]
  },
  {
   "cell_type": "markdown",
   "metadata": {},
   "source": [
    "## [SKEW](https://finance.yahoo.com/quote/%5ESKEW/)"
   ]
  },
  {
   "cell_type": "code",
   "execution_count": 5,
   "metadata": {},
   "outputs": [
    {
     "name": "stderr",
     "output_type": "stream",
     "text": [
      "[*********************100%%**********************]  1 of 1 completed\n"
     ]
    },
    {
     "name": "stdout",
     "output_type": "stream",
     "text": [
      "Added data:\n"
     ]
    },
    {
     "data": {
      "text/html": [
       "<div>\n",
       "<style scoped>\n",
       "    .dataframe tbody tr th:only-of-type {\n",
       "        vertical-align: middle;\n",
       "    }\n",
       "\n",
       "    .dataframe tbody tr th {\n",
       "        vertical-align: top;\n",
       "    }\n",
       "\n",
       "    .dataframe thead th {\n",
       "        text-align: right;\n",
       "    }\n",
       "</style>\n",
       "<table border=\"1\" class=\"dataframe\">\n",
       "  <thead>\n",
       "    <tr style=\"text-align: right;\">\n",
       "      <th></th>\n",
       "      <th></th>\n",
       "      <th>Close</th>\n",
       "      <th>Change%</th>\n",
       "    </tr>\n",
       "    <tr>\n",
       "      <th>Ticker</th>\n",
       "      <th>Date</th>\n",
       "      <th></th>\n",
       "      <th></th>\n",
       "    </tr>\n",
       "  </thead>\n",
       "  <tbody>\n",
       "    <tr>\n",
       "      <th>^SKEW</th>\n",
       "      <th>2024-04-25</th>\n",
       "      <td>134.080002</td>\n",
       "      <td>-0.73</td>\n",
       "    </tr>\n",
       "  </tbody>\n",
       "</table>\n",
       "</div>"
      ],
      "text/plain": [
       "                        Close  Change%\n",
       "Ticker Date                           \n",
       "^SKEW  2024-04-25  134.080002    -0.73"
      ]
     },
     "execution_count": 5,
     "metadata": {},
     "output_type": "execute_result"
    }
   ],
   "source": [
    "file_name = 'Contrarian_Indicators.xlsx'\n",
    "tickers = ['^SKEW']\n",
    "columns = ['Date', 'Close']\n",
    "\n",
    "GD.get_yahoo_finance_data(file_name = file_name,\n",
    "                          tickers = tickers,\n",
    "                          daily_change = 'B', # location of close price in excel\n",
    "                          volumes=None,\n",
    "                          columns = columns)"
   ]
  },
  {
   "cell_type": "markdown",
   "metadata": {},
   "source": [
    "## [VIX Different Futures' Values](https://www.barchart.com/futures/quotes/VIY00/futures-prices)"
   ]
  },
  {
   "cell_type": "code",
   "execution_count": 6,
   "metadata": {
    "scrolled": true
   },
   "outputs": [
    {
     "data": {
      "text/html": [
       "<div>\n",
       "<style scoped>\n",
       "    .dataframe tbody tr th:only-of-type {\n",
       "        vertical-align: middle;\n",
       "    }\n",
       "\n",
       "    .dataframe tbody tr th {\n",
       "        vertical-align: top;\n",
       "    }\n",
       "\n",
       "    .dataframe thead th {\n",
       "        text-align: right;\n",
       "    }\n",
       "</style>\n",
       "<table border=\"1\" class=\"dataframe\">\n",
       "  <thead>\n",
       "    <tr style=\"text-align: right;\">\n",
       "      <th></th>\n",
       "      <th>Contract</th>\n",
       "      <th>Last</th>\n",
       "      <th>Change</th>\n",
       "      <th>Open</th>\n",
       "      <th>High</th>\n",
       "      <th>Low</th>\n",
       "      <th>Previous</th>\n",
       "      <th>Volume</th>\n",
       "      <th>Open Int</th>\n",
       "      <th>Time</th>\n",
       "    </tr>\n",
       "  </thead>\n",
       "  <tbody>\n",
       "    <tr>\n",
       "      <th>0</th>\n",
       "      <td>VIY00 (Cash)</td>\n",
       "      <td>15.37</td>\n",
       "      <td>-0.60</td>\n",
       "      <td>16.25</td>\n",
       "      <td>17.55</td>\n",
       "      <td>15.27</td>\n",
       "      <td>15.97</td>\n",
       "      <td>N/A</td>\n",
       "      <td>N/A</td>\n",
       "      <td>04/25/24</td>\n",
       "    </tr>\n",
       "    <tr>\n",
       "      <th>1</th>\n",
       "      <td>VIK24 (May '24)</td>\n",
       "      <td>15.6000</td>\n",
       "      <td>-0.4018</td>\n",
       "      <td>15.6000</td>\n",
       "      <td>15.7100</td>\n",
       "      <td>15.5000</td>\n",
       "      <td>16.0018</td>\n",
       "      <td>890</td>\n",
       "      <td>166,515</td>\n",
       "      <td>22:03 CT</td>\n",
       "    </tr>\n",
       "    <tr>\n",
       "      <th>2</th>\n",
       "      <td>VIM24 (Jun '24)</td>\n",
       "      <td>15.9000</td>\n",
       "      <td>-0.3415</td>\n",
       "      <td>16.0000</td>\n",
       "      <td>16.0500</td>\n",
       "      <td>15.8500</td>\n",
       "      <td>16.2415</td>\n",
       "      <td>1,222</td>\n",
       "      <td>84,246</td>\n",
       "      <td>22:00 CT</td>\n",
       "    </tr>\n",
       "    <tr>\n",
       "      <th>3</th>\n",
       "      <td>VIN24 (Jul '24)</td>\n",
       "      <td>16.5000</td>\n",
       "      <td>-0.2007</td>\n",
       "      <td>16.5500</td>\n",
       "      <td>16.5800</td>\n",
       "      <td>16.4300</td>\n",
       "      <td>16.7007</td>\n",
       "      <td>550</td>\n",
       "      <td>42,047</td>\n",
       "      <td>21:59 CT</td>\n",
       "    </tr>\n",
       "    <tr>\n",
       "      <th>4</th>\n",
       "      <td>VIQ24 (Aug '24)</td>\n",
       "      <td>16.9000</td>\n",
       "      <td>-0.1974</td>\n",
       "      <td>16.9500</td>\n",
       "      <td>16.9600</td>\n",
       "      <td>16.8700</td>\n",
       "      <td>17.0974</td>\n",
       "      <td>207</td>\n",
       "      <td>27,874</td>\n",
       "      <td>21:47 CT</td>\n",
       "    </tr>\n",
       "    <tr>\n",
       "      <th>5</th>\n",
       "      <td>VIU24 (Sep '24)</td>\n",
       "      <td>17.4000</td>\n",
       "      <td>-0.1538</td>\n",
       "      <td>17.4100</td>\n",
       "      <td>17.4700</td>\n",
       "      <td>17.3500</td>\n",
       "      <td>17.5538</td>\n",
       "      <td>162</td>\n",
       "      <td>21,170</td>\n",
       "      <td>21:45 CT</td>\n",
       "    </tr>\n",
       "    <tr>\n",
       "      <th>6</th>\n",
       "      <td>VIV24 (Oct '24)</td>\n",
       "      <td>19.8500</td>\n",
       "      <td>-0.1502</td>\n",
       "      <td>19.8800</td>\n",
       "      <td>19.9500</td>\n",
       "      <td>19.8500</td>\n",
       "      <td>20.0002</td>\n",
       "      <td>135</td>\n",
       "      <td>18,773</td>\n",
       "      <td>20:38 CT</td>\n",
       "    </tr>\n",
       "    <tr>\n",
       "      <th>7</th>\n",
       "      <td>VIX24 (Nov '24)</td>\n",
       "      <td>18.1700</td>\n",
       "      <td>-0.1422</td>\n",
       "      <td>18.2000</td>\n",
       "      <td>18.2000</td>\n",
       "      <td>18.1700</td>\n",
       "      <td>18.3122</td>\n",
       "      <td>32</td>\n",
       "      <td>8,749</td>\n",
       "      <td>19:21 CT</td>\n",
       "    </tr>\n",
       "    <tr>\n",
       "      <th>8</th>\n",
       "      <td>VIZ24 (Dec '24)</td>\n",
       "      <td>18.0500s</td>\n",
       "      <td>-0.0500</td>\n",
       "      <td>18.1500</td>\n",
       "      <td>18.3800</td>\n",
       "      <td>17.9600</td>\n",
       "      <td>18.1000</td>\n",
       "      <td>346</td>\n",
       "      <td>963</td>\n",
       "      <td>04/25/24</td>\n",
       "    </tr>\n",
       "    <tr>\n",
       "      <th>9</th>\n",
       "      <td>VIF25 (Jan '25)</td>\n",
       "      <td>18.1500</td>\n",
       "      <td>-0.7500</td>\n",
       "      <td>18.1500</td>\n",
       "      <td>18.1500</td>\n",
       "      <td>18.1500</td>\n",
       "      <td>18.9000</td>\n",
       "      <td>1</td>\n",
       "      <td>N/A</td>\n",
       "      <td>20:37 CT</td>\n",
       "    </tr>\n",
       "  </tbody>\n",
       "</table>\n",
       "</div>"
      ],
      "text/plain": [
       "          Contract      Last   Change     Open     High      Low Previous  \\\n",
       "0     VIY00 (Cash)     15.37    -0.60    16.25    17.55    15.27    15.97   \n",
       "1  VIK24 (May '24)   15.6000  -0.4018  15.6000  15.7100  15.5000  16.0018   \n",
       "2  VIM24 (Jun '24)   15.9000  -0.3415  16.0000  16.0500  15.8500  16.2415   \n",
       "3  VIN24 (Jul '24)   16.5000  -0.2007  16.5500  16.5800  16.4300  16.7007   \n",
       "4  VIQ24 (Aug '24)   16.9000  -0.1974  16.9500  16.9600  16.8700  17.0974   \n",
       "5  VIU24 (Sep '24)   17.4000  -0.1538  17.4100  17.4700  17.3500  17.5538   \n",
       "6  VIV24 (Oct '24)   19.8500  -0.1502  19.8800  19.9500  19.8500  20.0002   \n",
       "7  VIX24 (Nov '24)   18.1700  -0.1422  18.2000  18.2000  18.1700  18.3122   \n",
       "8  VIZ24 (Dec '24)  18.0500s  -0.0500  18.1500  18.3800  17.9600  18.1000   \n",
       "9  VIF25 (Jan '25)   18.1500  -0.7500  18.1500  18.1500  18.1500  18.9000   \n",
       "\n",
       "  Volume Open Int      Time  \n",
       "0    N/A      N/A  04/25/24  \n",
       "1    890  166,515  22:03 CT  \n",
       "2  1,222   84,246  22:00 CT  \n",
       "3    550   42,047  21:59 CT  \n",
       "4    207   27,874  21:47 CT  \n",
       "5    162   21,170  21:45 CT  \n",
       "6    135   18,773  20:38 CT  \n",
       "7     32    8,749  19:21 CT  \n",
       "8    346      963  04/25/24  \n",
       "9      1      N/A  20:37 CT  "
      ]
     },
     "execution_count": 6,
     "metadata": {},
     "output_type": "execute_result"
    },
    {
     "data": {
      "image/png": "[encoded data removed]",
      "text/plain": [
       "<Figure size 640x480 with 1 Axes>"
      ]
     },
     "metadata": {},
     "output_type": "display_data"
    }
   ],
   "source": [
    "GD.get_vix_futures(show_table=True, show_graph = True)"
   ]
  },
  {
   "cell_type": "markdown",
   "metadata": {},
   "source": [
    "## S&P500 Sectors"
   ]
  },
  {
   "cell_type": "code",
   "execution_count": 7,
   "metadata": {},
   "outputs": [
    {
     "name": "stderr",
     "output_type": "stream",
     "text": [
      "[*********************100%%**********************]  1 of 1 completed\n",
      "[*********************100%%**********************]  1 of 1 completed\n",
      "[*********************100%%**********************]  1 of 1 completed\n",
      "[*********************100%%**********************]  1 of 1 completed\n",
      "[*********************100%%**********************]  1 of 1 completed\n",
      "[*********************100%%**********************]  1 of 1 completed\n",
      "[*********************100%%**********************]  1 of 1 completed\n",
      "[*********************100%%**********************]  1 of 1 completed\n",
      "[*********************100%%**********************]  1 of 1 completed\n",
      "[*********************100%%**********************]  1 of 1 completed\n",
      "[*********************100%%**********************]  1 of 1 completed\n"
     ]
    },
    {
     "name": "stdout",
     "output_type": "stream",
     "text": [
      "Added data\n"
     ]
    },
    {
     "data": {
      "text/html": [
       "<div>\n",
       "<style scoped>\n",
       "    .dataframe tbody tr th:only-of-type {\n",
       "        vertical-align: middle;\n",
       "    }\n",
       "\n",
       "    .dataframe tbody tr th {\n",
       "        vertical-align: top;\n",
       "    }\n",
       "\n",
       "    .dataframe thead th {\n",
       "        text-align: right;\n",
       "    }\n",
       "</style>\n",
       "<table border=\"1\" class=\"dataframe\">\n",
       "  <thead>\n",
       "    <tr style=\"text-align: right;\">\n",
       "      <th></th>\n",
       "      <th>Date</th>\n",
       "      <th>CONS_DESC</th>\n",
       "      <th>CONS_STPL</th>\n",
       "      <th>ENERGY</th>\n",
       "      <th>FINANCIALS</th>\n",
       "      <th>HEALTH</th>\n",
       "      <th>INDUSTRIALS</th>\n",
       "      <th>MATERIALS</th>\n",
       "      <th>REAL_ESTATE</th>\n",
       "      <th>TECHNOLOGY</th>\n",
       "      <th>TELECOM_SVS</th>\n",
       "      <th>UTILITIES</th>\n",
       "    </tr>\n",
       "  </thead>\n",
       "  <tbody>\n",
       "    <tr>\n",
       "      <th>0</th>\n",
       "      <td>2024-04-25</td>\n",
       "      <td>1411.9</td>\n",
       "      <td>808.02</td>\n",
       "      <td>738.85</td>\n",
       "      <td>680.23</td>\n",
       "      <td>1630.97</td>\n",
       "      <td>1036.29</td>\n",
       "      <td>560.17</td>\n",
       "      <td>226.46</td>\n",
       "      <td>3612.39</td>\n",
       "      <td>275.18</td>\n",
       "      <td>339.91</td>\n",
       "    </tr>\n",
       "  </tbody>\n",
       "</table>\n",
       "</div>"
      ],
      "text/plain": [
       "        Date  CONS_DESC  CONS_STPL  ENERGY  FINANCIALS   HEALTH  INDUSTRIALS  \\\n",
       "0 2024-04-25     1411.9     808.02  738.85      680.23  1630.97      1036.29   \n",
       "\n",
       "   MATERIALS  REAL_ESTATE  TECHNOLOGY  TELECOM_SVS  UTILITIES  \n",
       "0     560.17       226.46     3612.39       275.18     339.91  "
      ]
     },
     "execution_count": 7,
     "metadata": {},
     "output_type": "execute_result"
    }
   ],
   "source": [
    "# S&P 500 sector performance from YahooFinance\n",
    "GD.get_sp500_sector()"
   ]
  },
  {
   "cell_type": "markdown",
   "metadata": {},
   "source": [
    "## S&P500 Nasdaq100 Options\n",
    "- https://www.barchart.com/stocks/quotes/$SPX\n",
    "\n",
    "- https://www.barchart.com/stocks/quotes/$IUXX\n",
    "\n",
    "- https://www.barchart.com/stocks/quotes/$DJX"
   ]
  },
  {
   "cell_type": "code",
   "execution_count": 8,
   "metadata": {
    "scrolled": true
   },
   "outputs": [
    {
     "name": "stdout",
     "output_type": "stream",
     "text": [
      "Added data:\n"
     ]
    },
    {
     "data": {
      "text/html": [
       "<div>\n",
       "<style scoped>\n",
       "    .dataframe tbody tr th:only-of-type {\n",
       "        vertical-align: middle;\n",
       "    }\n",
       "\n",
       "    .dataframe tbody tr th {\n",
       "        vertical-align: top;\n",
       "    }\n",
       "\n",
       "    .dataframe thead th {\n",
       "        text-align: right;\n",
       "    }\n",
       "</style>\n",
       "<table border=\"1\" class=\"dataframe\">\n",
       "  <thead>\n",
       "    <tr style=\"text-align: right;\">\n",
       "      <th></th>\n",
       "      <th>Implied Volatility</th>\n",
       "      <th>Historical Volatility</th>\n",
       "      <th>IV Percentile</th>\n",
       "      <th>IV Rank</th>\n",
       "      <th>IV High</th>\n",
       "      <th>IV Low</th>\n",
       "      <th>Put/Call Vol Ratio</th>\n",
       "      <th>Today's Volume</th>\n",
       "      <th>Volume Avg (30-Day)</th>\n",
       "      <th>Put/Call OI Ratio</th>\n",
       "      <th>Today's Open Interest</th>\n",
       "      <th>Open Int (30-Day)</th>\n",
       "    </tr>\n",
       "  </thead>\n",
       "  <tbody>\n",
       "    <tr>\n",
       "      <th>$SPX</th>\n",
       "      <td>14.62</td>\n",
       "      <td>11.18</td>\n",
       "      <td>83</td>\n",
       "      <td>67.61</td>\n",
       "      <td>18.40</td>\n",
       "      <td>6.73</td>\n",
       "      <td>1.23</td>\n",
       "      <td>3,283,879</td>\n",
       "      <td>2,041,764</td>\n",
       "      <td>1.96</td>\n",
       "      <td>20,004,112</td>\n",
       "      <td>13,211,870</td>\n",
       "    </tr>\n",
       "    <tr>\n",
       "      <th>$IUXX</th>\n",
       "      <td>0.00</td>\n",
       "      <td>15.34</td>\n",
       "      <td>0</td>\n",
       "      <td>0.00</td>\n",
       "      <td>23.33</td>\n",
       "      <td>0.00</td>\n",
       "      <td>0.94</td>\n",
       "      <td>53,145</td>\n",
       "      <td>55,277</td>\n",
       "      <td>1.24</td>\n",
       "      <td>139,651</td>\n",
       "      <td>138,284</td>\n",
       "    </tr>\n",
       "    <tr>\n",
       "      <th>$DJX</th>\n",
       "      <td>11.83</td>\n",
       "      <td>10.81</td>\n",
       "      <td>62</td>\n",
       "      <td>48.74</td>\n",
       "      <td>18.54</td>\n",
       "      <td>5.45</td>\n",
       "      <td>0.57</td>\n",
       "      <td>824</td>\n",
       "      <td>915</td>\n",
       "      <td>0.59</td>\n",
       "      <td>39,970</td>\n",
       "      <td>41,768</td>\n",
       "    </tr>\n",
       "  </tbody>\n",
       "</table>\n",
       "</div>"
      ],
      "text/plain": [
       "      Implied Volatility Historical Volatility IV Percentile IV Rank IV High  \\\n",
       "$SPX               14.62                 11.18            83   67.61   18.40   \n",
       "$IUXX               0.00                 15.34             0    0.00   23.33   \n",
       "$DJX               11.83                 10.81            62   48.74   18.54   \n",
       "\n",
       "      IV Low Put/Call Vol Ratio Today's Volume Volume Avg (30-Day)  \\\n",
       "$SPX    6.73               1.23      3,283,879           2,041,764   \n",
       "$IUXX   0.00               0.94         53,145              55,277   \n",
       "$DJX    5.45               0.57            824                 915   \n",
       "\n",
       "      Put/Call OI Ratio Today's Open Interest Open Int (30-Day)  \n",
       "$SPX               1.96            20,004,112        13,211,870  \n",
       "$IUXX              1.24               139,651           138,284  \n",
       "$DJX               0.59                39,970            41,768  "
      ]
     },
     "execution_count": 8,
     "metadata": {},
     "output_type": "execute_result"
    }
   ],
   "source": [
    "# S&P500 and Nasdaq100 Options data\n",
    "GD.get_options(['$SPX','$IUXX', '$DJX'])"
   ]
  },
  {
   "cell_type": "markdown",
   "metadata": {},
   "source": [
    "## Put/Call Ratio\n",
    "https://www.cboe.com/us/options/market_statistics/daily/"
   ]
  },
  {
   "cell_type": "code",
   "execution_count": 9,
   "metadata": {},
   "outputs": [
    {
     "name": "stdout",
     "output_type": "stream",
     "text": [
      "Added data:\n"
     ]
    },
    {
     "data": {
      "text/html": [
       "<div>\n",
       "<style scoped>\n",
       "    .dataframe tbody tr th:only-of-type {\n",
       "        vertical-align: middle;\n",
       "    }\n",
       "\n",
       "    .dataframe tbody tr th {\n",
       "        vertical-align: top;\n",
       "    }\n",
       "\n",
       "    .dataframe thead th {\n",
       "        text-align: right;\n",
       "    }\n",
       "</style>\n",
       "<table border=\"1\" class=\"dataframe\">\n",
       "  <thead>\n",
       "    <tr style=\"text-align: right;\">\n",
       "      <th></th>\n",
       "      <th>Date</th>\n",
       "      <th>TOTAL</th>\n",
       "      <th>INDEX</th>\n",
       "      <th>EQUITY</th>\n",
       "    </tr>\n",
       "  </thead>\n",
       "  <tbody>\n",
       "    <tr>\n",
       "      <th>0</th>\n",
       "      <td>2024-04-25</td>\n",
       "      <td>0.93</td>\n",
       "      <td>1.02</td>\n",
       "      <td>0.68</td>\n",
       "    </tr>\n",
       "  </tbody>\n",
       "</table>\n",
       "</div>"
      ],
      "text/plain": [
       "         Date TOTAL INDEX EQUITY\n",
       "0  2024-04-25  0.93  1.02   0.68"
      ]
     },
     "execution_count": 9,
     "metadata": {},
     "output_type": "execute_result"
    }
   ],
   "source": [
    "# Put/Call Ratio (Total, Index, Equity)\n",
    "GD.get_pcr()"
   ]
  },
  {
   "cell_type": "markdown",
   "metadata": {},
   "source": [
    "# Weekly Run Function"
   ]
  },
  {
   "cell_type": "markdown",
   "metadata": {},
   "source": [
    "## [NAAIM Number](https://www.naaim.org/programs/naaim-exposure-index/)"
   ]
  },
  {
   "cell_type": "code",
   "execution_count": 10,
   "metadata": {
    "scrolled": true
   },
   "outputs": [
    {
     "name": "stdout",
     "output_type": "stream",
     "text": [
      "Added Data:\n",
      "          Date NAAIM_Num Max_Bear    Q1     Q2      Q3 Max_Bull     SD\n",
      "0  2024-04-24     59.48     -200  0.16  87.50  100.00      200  70.79\n"
     ]
    }
   ],
   "source": [
    "# NAAIM number: https://www.naaim.org/programs/naaim-exposure-index/\n",
    "# Run this function every Thursday\n",
    "GD.get_naaim()"
   ]
  },
  {
   "cell_type": "markdown",
   "metadata": {},
   "source": [
    "## [AAII](https://www.aaii.com/sentimentsurvey)\n",
    "\n",
    "[download](https://www.aaii.com/files/surveys/sentiment.xls)"
   ]
  },
  {
   "cell_type": "code",
   "execution_count": 11,
   "metadata": {},
   "outputs": [],
   "source": [
    "# AAII Bull/Bear indicator: https://www.aaii.com/files/surveys/sentiment.xls\n",
    "# Run this function every Thursday\n",
    "GD.get_aaii(load_sheet_delete=True)"
   ]
  },
  {
   "cell_type": "code",
   "execution_count": null,
   "metadata": {},
   "outputs": [],
   "source": []
  },
  {
   "cell_type": "markdown",
   "metadata": {},
   "source": [
    "# Monthly Run Function "
   ]
  },
  {
   "cell_type": "markdown",
   "metadata": {},
   "source": [
    "## [S&P500 PER](https://www.multpl.com/s-p-500-pe-ratio/table/by-month) & [Shiller PER](https://www.multpl.com/shiller-pe/table/by-month)"
   ]
  },
  {
   "cell_type": "code",
   "execution_count": 9,
   "metadata": {},
   "outputs": [
    {
     "name": "stdout",
     "output_type": "stream",
     "text": [
      "Past 1 year data:\n"
     ]
    },
    {
     "data": {
      "text/html": [
       "<div>\n",
       "<style scoped>\n",
       "    .dataframe tbody tr th:only-of-type {\n",
       "        vertical-align: middle;\n",
       "    }\n",
       "\n",
       "    .dataframe tbody tr th {\n",
       "        vertical-align: top;\n",
       "    }\n",
       "\n",
       "    .dataframe thead th {\n",
       "        text-align: right;\n",
       "    }\n",
       "</style>\n",
       "<table border=\"1\" class=\"dataframe\">\n",
       "  <thead>\n",
       "    <tr style=\"text-align: right;\">\n",
       "      <th></th>\n",
       "      <th>Date</th>\n",
       "      <th>N_PER</th>\n",
       "      <th>S_PER</th>\n",
       "    </tr>\n",
       "  </thead>\n",
       "  <tbody>\n",
       "    <tr>\n",
       "      <th>0</th>\n",
       "      <td>2022-10-01</td>\n",
       "      <td>20.44</td>\n",
       "      <td>27.08</td>\n",
       "    </tr>\n",
       "    <tr>\n",
       "      <th>1</th>\n",
       "      <td>2022-11-01</td>\n",
       "      <td>22.07</td>\n",
       "      <td>28.38</td>\n",
       "    </tr>\n",
       "    <tr>\n",
       "      <th>2</th>\n",
       "      <td>2022-12-01</td>\n",
       "      <td>22.65</td>\n",
       "      <td>28.32</td>\n",
       "    </tr>\n",
       "    <tr>\n",
       "      <th>3</th>\n",
       "      <td>2023-01-01</td>\n",
       "      <td>22.82</td>\n",
       "      <td>28.34</td>\n",
       "    </tr>\n",
       "    <tr>\n",
       "      <th>4</th>\n",
       "      <td>2023-02-01</td>\n",
       "      <td>23.40</td>\n",
       "      <td>28.92</td>\n",
       "    </tr>\n",
       "    <tr>\n",
       "      <th>5</th>\n",
       "      <td>2023-03-01</td>\n",
       "      <td>22.66</td>\n",
       "      <td>27.94</td>\n",
       "    </tr>\n",
       "    <tr>\n",
       "      <th>6</th>\n",
       "      <td>2023-04-01</td>\n",
       "      <td>23.53</td>\n",
       "      <td>28.77</td>\n",
       "    </tr>\n",
       "    <tr>\n",
       "      <th>7</th>\n",
       "      <td>2023-05-01</td>\n",
       "      <td>23.67</td>\n",
       "      <td>28.82</td>\n",
       "    </tr>\n",
       "    <tr>\n",
       "      <th>8</th>\n",
       "      <td>2023-06-01</td>\n",
       "      <td>24.81</td>\n",
       "      <td>30.06</td>\n",
       "    </tr>\n",
       "    <tr>\n",
       "      <th>9</th>\n",
       "      <td>2023-07-01</td>\n",
       "      <td>25.74</td>\n",
       "      <td>31.08</td>\n",
       "    </tr>\n",
       "    <tr>\n",
       "      <th>10</th>\n",
       "      <td>2023-08-01</td>\n",
       "      <td>25.45</td>\n",
       "      <td>30.68</td>\n",
       "    </tr>\n",
       "    <tr>\n",
       "      <th>11</th>\n",
       "      <td>2023-09-01</td>\n",
       "      <td>25.74</td>\n",
       "      <td>30.99</td>\n",
       "    </tr>\n",
       "    <tr>\n",
       "      <th>12</th>\n",
       "      <td>2023-09-15</td>\n",
       "      <td>25.41</td>\n",
       "      <td>30.59</td>\n",
       "    </tr>\n",
       "  </tbody>\n",
       "</table>\n",
       "</div>"
      ],
      "text/plain": [
       "          Date  N_PER  S_PER\n",
       "0   2022-10-01  20.44  27.08\n",
       "1   2022-11-01  22.07  28.38\n",
       "2   2022-12-01  22.65  28.32\n",
       "3   2023-01-01  22.82  28.34\n",
       "4   2023-02-01  23.40  28.92\n",
       "5   2023-03-01  22.66  27.94\n",
       "6   2023-04-01  23.53  28.77\n",
       "7   2023-05-01  23.67  28.82\n",
       "8   2023-06-01  24.81  30.06\n",
       "9   2023-07-01  25.74  31.08\n",
       "10  2023-08-01  25.45  30.68\n",
       "11  2023-09-01  25.74  30.99\n",
       "12  2023-09-15  25.41  30.59"
      ]
     },
     "execution_count": 9,
     "metadata": {},
     "output_type": "execute_result"
    }
   ],
   "source": [
    "# S&P500 PER & Shiller PER \n",
    "# Run this function 1st day of every month \n",
    "GD.get_sp500_per()"
   ]
  },
  {
   "cell_type": "markdown",
   "metadata": {},
   "source": [
    "## [Margin Debt](https://www.finra.org/investors/learn-to-invest/advanced-investing/margin-statistics)"
   ]
  },
  {
   "cell_type": "code",
   "execution_count": 12,
   "metadata": {},
   "outputs": [
    {
     "name": "stdout",
     "output_type": "stream",
     "text": [
      "Latest data:\n",
      " ['177,054']\n"
     ]
    },
    {
     "ename": "IndexError",
     "evalue": "list index out of range",
     "output_type": "error",
     "traceback": [
      "\u001b[1;31m---------------------------------------------------------------------------\u001b[0m",
      "\u001b[1;31mIndexError\u001b[0m                                Traceback (most recent call last)",
      "\u001b[1;32m~\\AppData\\Local\\Temp\\ipykernel_1660\\2900518342.py\u001b[0m in \u001b[0;36m<module>\u001b[1;34m\u001b[0m\n\u001b[0;32m      1\u001b[0m \u001b[1;31m# Margin debt\u001b[0m\u001b[1;33m\u001b[0m\u001b[1;33m\u001b[0m\u001b[0m\n\u001b[0;32m      2\u001b[0m \u001b[1;31m# Retrieve from https://www.finra.org/investors/learn-to-invest/advanced-investing/margin-statistics\u001b[0m\u001b[1;33m\u001b[0m\u001b[1;33m\u001b[0m\u001b[0m\n\u001b[1;32m----> 3\u001b[1;33m \u001b[0mGD\u001b[0m\u001b[1;33m.\u001b[0m\u001b[0mget_margin_debt\u001b[0m\u001b[1;33m(\u001b[0m\u001b[1;33m)\u001b[0m\u001b[1;33m\u001b[0m\u001b[1;33m\u001b[0m\u001b[0m\n\u001b[0m",
      "\u001b[1;32m~\\Analysis_Data_Python\\Finance\\Get_Data.py\u001b[0m in \u001b[0;36mget_margin_debt\u001b[1;34m()\u001b[0m\n\u001b[0;32m    312\u001b[0m     \u001b[0mnew_date\u001b[0m \u001b[1;33m=\u001b[0m \u001b[0mlast_date\u001b[0m \u001b[1;33m+\u001b[0m \u001b[0mrelativedelta\u001b[0m\u001b[1;33m(\u001b[0m\u001b[0mmonths\u001b[0m\u001b[1;33m=\u001b[0m\u001b[1;36m1\u001b[0m\u001b[1;33m)\u001b[0m\u001b[1;33m\u001b[0m\u001b[1;33m\u001b[0m\u001b[0m\n\u001b[0;32m    313\u001b[0m     \u001b[0msheet\u001b[0m\u001b[1;33m.\u001b[0m\u001b[0mrange\u001b[0m\u001b[1;33m(\u001b[0m\u001b[1;34mf'A{last_row+1}'\u001b[0m\u001b[1;33m)\u001b[0m\u001b[1;33m.\u001b[0m\u001b[0mvalue\u001b[0m \u001b[1;33m=\u001b[0m \u001b[0mnew_date\u001b[0m\u001b[1;33m.\u001b[0m\u001b[0mstrftime\u001b[0m\u001b[1;33m(\u001b[0m\u001b[1;34m'%b %Y'\u001b[0m\u001b[1;33m)\u001b[0m\u001b[1;33m\u001b[0m\u001b[1;33m\u001b[0m\u001b[0m\n\u001b[1;32m--> 314\u001b[1;33m     \u001b[0msheet\u001b[0m\u001b[1;33m.\u001b[0m\u001b[0mrange\u001b[0m\u001b[1;33m(\u001b[0m\u001b[1;34mf'B{last_row+1}'\u001b[0m\u001b[1;33m)\u001b[0m\u001b[1;33m.\u001b[0m\u001b[0mvalue\u001b[0m \u001b[1;33m=\u001b[0m \u001b[0mlatest_data\u001b[0m\u001b[1;33m[\u001b[0m\u001b[1;36m1\u001b[0m\u001b[1;33m]\u001b[0m\u001b[1;33m\u001b[0m\u001b[1;33m\u001b[0m\u001b[0m\n\u001b[0m\u001b[0;32m    315\u001b[0m     \u001b[0mbook\u001b[0m\u001b[1;33m.\u001b[0m\u001b[0msave\u001b[0m\u001b[1;33m(\u001b[0m\u001b[1;33m)\u001b[0m\u001b[1;33m\u001b[0m\u001b[1;33m\u001b[0m\u001b[0m\n\u001b[0;32m    316\u001b[0m \u001b[1;33m\u001b[0m\u001b[0m\n",
      "\u001b[1;31mIndexError\u001b[0m: list index out of range"
     ]
    }
   ],
   "source": [
    "# Margin debt\n",
    "# Retrieve from https://www.finra.org/investors/learn-to-invest/advanced-investing/margin-statistics\n",
    "GD.get_margin_debt()"
   ]
  },
  {
   "cell_type": "markdown",
   "metadata": {},
   "source": [
    "<br>\n",
    "<hr style=\"border:0.5px solid brack\">\n",
    "<br>"
   ]
  },
  {
   "cell_type": "markdown",
   "metadata": {},
   "source": [
    "# Functions (Finance_Function)"
   ]
  },
  {
   "cell_type": "code",
   "execution_count": 19,
   "metadata": {},
   "outputs": [
    {
     "name": "stdout",
     "output_type": "stream",
     "text": [
      "[*********************100%***********************]  1 of 1 completed\n",
      "[*********************100%***********************]  1 of 1 completed\n",
      "[*********************100%***********************]  1 of 1 completed\n",
      "[*********************100%***********************]  1 of 1 completed\n",
      "[*********************100%***********************]  1 of 1 completed\n",
      "[*********************100%***********************]  1 of 1 completed\n",
      "[*********************100%***********************]  1 of 1 completed\n",
      "[*********************100%***********************]  1 of 1 completed\n",
      "Added data:\n"
     ]
    },
    {
     "data": {
      "text/html": [
       "<div>\n",
       "<style scoped>\n",
       "    .dataframe tbody tr th:only-of-type {\n",
       "        vertical-align: middle;\n",
       "    }\n",
       "\n",
       "    .dataframe tbody tr th {\n",
       "        vertical-align: top;\n",
       "    }\n",
       "\n",
       "    .dataframe thead th {\n",
       "        text-align: right;\n",
       "    }\n",
       "</style>\n",
       "<table border=\"1\" class=\"dataframe\">\n",
       "  <thead>\n",
       "    <tr style=\"text-align: right;\">\n",
       "      <th></th>\n",
       "      <th></th>\n",
       "      <th>Open</th>\n",
       "      <th>High</th>\n",
       "      <th>Low</th>\n",
       "      <th>Close</th>\n",
       "      <th>Change%</th>\n",
       "      <th>Volume</th>\n",
       "    </tr>\n",
       "    <tr>\n",
       "      <th>Ticker</th>\n",
       "      <th>Date</th>\n",
       "      <th></th>\n",
       "      <th></th>\n",
       "      <th></th>\n",
       "      <th></th>\n",
       "      <th></th>\n",
       "      <th></th>\n",
       "    </tr>\n",
       "  </thead>\n",
       "  <tbody>\n",
       "    <tr>\n",
       "      <th>^GSPC</th>\n",
       "      <th>2022-06-07</th>\n",
       "      <td>4096.470215</td>\n",
       "      <td>4164.859863</td>\n",
       "      <td>4080.189941</td>\n",
       "      <td>4160.680176</td>\n",
       "      <td>0.95</td>\n",
       "      <td>59053100</td>\n",
       "    </tr>\n",
       "    <tr>\n",
       "      <th>^NDX</th>\n",
       "      <th>2022-06-07</th>\n",
       "      <td>12456.490234</td>\n",
       "      <td>12737.299805</td>\n",
       "      <td>12413.559570</td>\n",
       "      <td>12711.679688</td>\n",
       "      <td>0.89</td>\n",
       "      <td>44725300</td>\n",
       "    </tr>\n",
       "    <tr>\n",
       "      <th>^DJI</th>\n",
       "      <th>2022-06-07</th>\n",
       "      <td>32783.031250</td>\n",
       "      <td>33207.449219</td>\n",
       "      <td>32641.849609</td>\n",
       "      <td>33180.140625</td>\n",
       "      <td>0.80</td>\n",
       "      <td>2417400</td>\n",
       "    </tr>\n",
       "    <tr>\n",
       "      <th>^RUT</th>\n",
       "      <th>2022-06-07</th>\n",
       "      <td>1879.770020</td>\n",
       "      <td>1919.729980</td>\n",
       "      <td>1870.939941</td>\n",
       "      <td>1919.560059</td>\n",
       "      <td>1.57</td>\n",
       "      <td>1195300</td>\n",
       "    </tr>\n",
       "  </tbody>\n",
       "</table>\n",
       "</div>"
      ],
      "text/plain": [
       "                           Open          High           Low         Close  \\\n",
       "Ticker Date                                                                 \n",
       "^GSPC  2022-06-07   4096.470215   4164.859863   4080.189941   4160.680176   \n",
       "^NDX   2022-06-07  12456.490234  12737.299805  12413.559570  12711.679688   \n",
       "^DJI   2022-06-07  32783.031250  33207.449219  32641.849609  33180.140625   \n",
       "^RUT   2022-06-07   1879.770020   1919.729980   1870.939941   1919.560059   \n",
       "\n",
       "                   Change%    Volume  \n",
       "Ticker Date                           \n",
       "^GSPC  2022-06-07     0.95  59053100  \n",
       "^NDX   2022-06-07     0.89  44725300  \n",
       "^DJI   2022-06-07     0.80   2417400  \n",
       "^RUT   2022-06-07     1.57   1195300  "
      ]
     },
     "execution_count": 19,
     "metadata": {},
     "output_type": "execute_result"
    }
   ],
   "source": [
    "file_name = 'Stock_Indices.xlsx'\n",
    "tickers = ['^GSPC', '^NDX', '^DJI', '^RUT'] #S&P500, Nasdaq100, Dow Jones, Russell 2000\n",
    "volumes = ['SPY', 'QQQ', 'DIA', 'IWN'] # corresponding ETF\n",
    "columns = ['Date', 'Open', 'High', 'Low',  'Close']\n",
    "\n",
    "YAHOO_FINANCE_EXTRACT(file_name = file_name,\n",
    "                      tickers = tickers,\n",
    "                      daily_change = 'E', # location of close price in excel\n",
    "                      volumes = volumes,\n",
    "                      columns = columns)"
   ]
  },
  {
   "cell_type": "code",
   "execution_count": 18,
   "metadata": {},
   "outputs": [],
   "source": [
    "def YAHOO_FINANCE_EXTRACT(file_name:str, tickers:list, daily_change: str, volumes:list, columns:list):\n",
    "    \"\"\"\n",
    "    (str, list, str, list, list) -> edit excel file\n",
    "    Extract the data from yahoo finance and add them into excel file\n",
    "    \"\"\"\n",
    "    file_list = os.listdir('data')\n",
    "    if file_name not in file_list:\n",
    "        return f'Error. There is no {file_name} in data'\n",
    "    \n",
    "    df = pd.DataFrame()\n",
    "    file_path = f'data/{file_name}'\n",
    "    excel_book = xw.Book(fullname=file_path)\n",
    "    for i in range(len(tickers)):\n",
    "        sheet = excel_book.sheets[tickers[i]]\n",
    "        last_row = int(sheet.range('A1').end('down').row)\n",
    "        last_date = sheet.range(f'A{last_row}').value\n",
    "        if pd.Timestamp(last_date) == pd.Timestamp(datetime.date.today()):\n",
    "            sheet.range(f'{last_row}:{last_row}').clear()\n",
    "            last_row = int(sheet.range('A1').end('down').row)\n",
    "\n",
    "        start_date = sheet.range(f'A{last_row}').value + datetime.timedelta(days=1)\n",
    "        new_data = yf.download(tickers[i], start=start_date).reset_index()[columns] # Data:'Open, High, Low, Close'\n",
    "        \n",
    "        if daily_change != None:\n",
    "            close_data = pd.DataFrame([sheet.range(f'{daily_change}{last_row}').value]).append(list(new_data['Close']))\n",
    "            close_func = lambda x: ((x.iloc[1]-x.iloc[0])/x.iloc[0])*100\n",
    "            new_data['Change%'] = close_data.rolling(window=2).apply(close_func).round(2).dropna().values # Data:'Change%'\n",
    "    \n",
    "        if volumes != None:\n",
    "            new_volume = yf.download(volumes[i], start=start_date).reset_index()[['Date', 'Volume']]\n",
    "            new_data = pd.merge(new_data, new_volume, on='Date', how='left') # Data: 'Volume'\n",
    "            \n",
    "        cell_num = last_row+1\n",
    "        for each_data in new_data.values:\n",
    "            sheet.range(f'A{cell_num}').value = each_data # Colume 'Open', 'High', 'Low', 'Close', 'Change%', 'Volume'\n",
    "            cell_num += 1\n",
    "        \n",
    "        new_data['Ticker'] = tickers[i] \n",
    "        df = pd.concat([df, new_data])\n",
    "            \n",
    "    excel_book.save()\n",
    "    print('Added data:')\n",
    "    return df.reset_index().set_index(['Ticker', 'Date']).drop(['index'], axis=1)"
   ]
  },
  {
   "cell_type": "code",
   "execution_count": 128,
   "metadata": {},
   "outputs": [],
   "source": [
    "def SP500_SECTOR():\n",
    "    sectors = {'CONS_DESC': '^SP500-25', 'CONS_STPL': '^SP500-30', 'ENERGY': '^SP500-1010',\n",
    "               'FINANCIALS': '^SP500-40', 'HEALTH': '^SP500-35', 'INDUSTRIALS': '^SP500-20',\n",
    "               'MATERIALS': '^SP500-15', 'REAL_ESTATE': '^SP500-60', 'TECHNOLOGY': '^SP500-45',\n",
    "               'TELECOM_SVS': '^SP500-50', 'UTILITIES': '^SP500-55'}\n",
    "    book = xw.Book('data/Stock_Indices.xlsx')\n",
    "    sheet = book.sheets['S&P500_SECTOR']\n",
    "    last_row = int(sheet.range('A1').end('down').row)\n",
    "    last_day = sheet.range(f'A{last_row}').value.date()\n",
    "    if datetime.date.today() == last_day:\n",
    "        sheet.range(f'{last_row}:{last_row}').clear()\n",
    "        last_row = last_row - 1 # 7305\n",
    "    \n",
    "    start_day = sheet.range(f'A{last_row}').value.date() + datetime.timedelta(days=1)\n",
    "    prices = [yf.download(sectors[sector], start=start_day)[\"Close\"].rename(sector) for sector in sectors]\n",
    "    df_sector = pd.concat(prices, axis=1).reset_index().round(2)\n",
    "    sheet.range(f'A{last_row+1}').value = df_sector.values\n",
    "    book.save()\n",
    "    print('Added data')\n",
    "    return df_sector"
   ]
  },
  {
   "cell_type": "code",
   "execution_count": 177,
   "metadata": {},
   "outputs": [],
   "source": [
    "def GET_PCR():\n",
    "    \"\"\"\n",
    "    Extract Total, Index, and Equity Put/Call Ratio\n",
    "    Reference -> https://www.cboe.com/us/options/market_statistics/daily/        \n",
    "    \"\"\"\n",
    "    excel_book = xw.Book(fullname='data/Contrarian_Indicators.xlsx')\n",
    "    PCR_sheet = excel_book.sheets['PCR']\n",
    "    last_row = int(PCR_sheet.range('A1').end('down').row)\n",
    "    last_day = PCR_sheet.range(f'A{last_row}').value\n",
    "    \n",
    "    add_df = pd.DataFrame(columns=['Date','TOTAL','INDEX','EQUITY']) \n",
    "    sample = pd.read_excel('data/Stock_Indices.xlsx', sheet_name=\"^GSPC\") # load 'sample' to get the days the market was open\n",
    "    \n",
    "    for day in sample[sample['Date'] > pd.Timestamp(last_day)]['Date']: # day: market dates that aren't  written in PCR_sheet\n",
    "        data = WEB_SCRAPE(url=f'https://www.cboe.com/us/options/market_statistics/daily/?dt={day.date()}',\n",
    "                          css_selector='#daily-market-statistics > div > div > div:nth-child(5) > table')\n",
    "        # only three items whose first item is 'TOTAL' or 'INDEX' or 'EQUITY'\n",
    "        data_list = list(filter(lambda x: x.split(' ')[0] in ['TOTAL','INDEX','EQUITY'], data.split('\\n')))        \n",
    "        add_dict = {'Date': day.date()}\n",
    "        for d in data_list:\n",
    "            add_dict[d.split(' ')[0]] = d.split(' ')[-1]\n",
    "            \n",
    "        add_df = add_df.append(add_dict, ignore_index=True)\n",
    "    \n",
    "    # add option data into excel sheet\n",
    "    PCR_sheet.range(f'A{last_row+1}').value = add_df.values\n",
    "    excel_book.save()\n",
    "    print(\"Added data:\")\n",
    "    return add_df"
   ]
  },
  {
   "cell_type": "code",
   "execution_count": 176,
   "metadata": {},
   "outputs": [],
   "source": [
    "def GET_VIX_FUTURES(show_table = False, show_graph = False): \n",
    "    \"\"\"\n",
    "    Retrieve the different contracts' VIX futures from the Barchart.com\n",
    "    \"\"\"\n",
    "    # Get original data\n",
    "    text = WEB_SCRAPE(url='https://www.barchart.com/futures/quotes/VIY00/futures-prices',\n",
    "                  css_selector='#main-content-column > div > div.barchart-content-block.invisible.border-top-0.visible')\n",
    "    raw_data = text.split('\\n') # split original data as 'new line'\n",
    "    columns = raw_data[:10]     # columns are the first 10 items \n",
    "    del raw_data[:11]           # remove unnecessary items\n",
    "    data_list = []              # define list for each row data\n",
    "    while len(raw_data) != 0:\n",
    "        data_list.append(raw_data[:10])\n",
    "        del raw_data[:10]        \n",
    "    df = pd.DataFrame(data=data_list, columns=columns)\n",
    "    \n",
    "    # Adding new data (closing value) to the excel file\n",
    "    book = xw.Book(fullname='data/Contrarian_Indicators.xlsx')\n",
    "    sheet = book.sheets['VIX_Futures']\n",
    "    row = int(sheet.range('A1').end('down').row)+1    # get the row for the new data\n",
    "    df_for_date = pd.read_excel('data/Stock_Indices.xlsx') \n",
    "    date = [df_for_date['Date'].dropna().iloc[-1].date()] # get the date of the retrieved data\n",
    "    values = list(df['Last'].apply(lambda x: x[:-1]).astype('float')) # convert values to float\n",
    "    sheet.range(f'A{row}').value = date + values\n",
    "    book.save()\n",
    "    \n",
    "    if show_graph == True:\n",
    "        new_df = pd.read_excel('data/Contrarian_Indicators.xlsx', sheet_name='VIX_Futures').T\n",
    "        new_df.rename(columns=new_df.iloc[0], inplace=True) # assign date as eacn column name\n",
    "        new_df.drop('Date', inplace=True) # drop 'Date' row\n",
    "        plt.plot(new_df.iloc[:, -5:]) # showing the latest 10 data\n",
    "        plt.legend(list(new_df.columns.astype('str'))[-5:])\n",
    "            \n",
    "    if show_table == True:\n",
    "        return df"
   ]
  },
  {
   "cell_type": "code",
   "execution_count": 138,
   "metadata": {},
   "outputs": [],
   "source": [
    "def GET_OPTIONS(tickers: list):\n",
    "    \"\"\"\n",
    "    Ticker examples:\n",
    "    S&P500:     '$SPX'\n",
    "    Nasdaq100:  '$IUXX'\n",
    "    Dow Jones:  '$DJX'\n",
    "    \"\"\"\n",
    "    book = xw.Book(fullname='data/Options.xlsx')\n",
    "    day = [datetime.datetime.today().date()]\n",
    "    \n",
    "    for ticker in tickers:        \n",
    "        text = WEB_SCRAPE(url=f'https://www.barchart.com/stocks/quotes/{ticker}',\n",
    "                             css_selector='#main-content-column > div > div.barchart-content-block.symbol-fundamentals.bc-cot-table-wrapper > div.block-content')\n",
    "        data = text.split('\\n')        \n",
    "        values = []\n",
    "        for v in [data[i] for i in range(1, len(data), 2)]:\n",
    "            p = v.find('%')\n",
    "            value = v[:p] if p != -1 else v\n",
    "            values.append(value)\n",
    "        if ticker == tickers[0]:\n",
    "            columns = [data[i] for i in range(0, len(data), 2)]\n",
    "            df = pd.DataFrame(columns=columns)\n",
    "        df.loc[ticker] = values\n",
    "\n",
    "        sheet = book.sheets[ticker]\n",
    "        row = int(sheet.range('A1').end('down').row)+1\n",
    "        sheet.range(f'A{row}').value = day + values\n",
    "    \n",
    "    book.save()\n",
    "    print('Added data:')\n",
    "    return df"
   ]
  },
  {
   "cell_type": "code",
   "execution_count": 11,
   "metadata": {},
   "outputs": [],
   "source": [
    "def GET_AAII(load_sheet_delete=True):\n",
    "    \"\"\"\n",
    "    Downloaded excel file before running this function will be removed, if its input is still True.\n",
    "    Reference -> https://www.aaii.com/sentimentsurvey\n",
    "    \"\"\"\n",
    "    load_sheet = pd.read_excel(io=r'C:\\Users\\runru\\Downloads\\sentiment.xls', sheet_name='SENTIMENT').iloc[4:, :4]\n",
    "    load_sheet.columns = ['Date', 'Bullish', 'Neutral', 'Bearish']\n",
    "    load_sheet_lday = list(filter(lambda x: type(x) == datetime.datetime, load_sheet['Date']))[-1]\n",
    "    \n",
    "    my_sheet = pd.read_excel(io='data/Contrarian_Indicators.xlsx', sheet_name='AAII')\n",
    "    my_sheet_lday = my_sheet['Date'].iloc[-1]    \n",
    "    \n",
    "    while load_sheet_lday > my_sheet_lday:\n",
    "        my_sheet_lday += pd.Timedelta(days=7)\n",
    "        add_data = load_sheet[load_sheet['Date'] == my_sheet_lday].values\n",
    "        book = xw.Book(fullname='data/Contrarian_Indicators.xlsx')\n",
    "        sheet = book.sheets['AAII']\n",
    "        row = int(sheet.range('A1').end('down').row)+1\n",
    "        sheet.range('A'+str(row)).value = add_data[0]\n",
    "        sheet.range('E'+str(row)).formula = f'=B{row}-D{row}'\n",
    "        sheet.range('F'+str(row)).formula = f'=AVERAGE(B{row-7}:B{row})'\n",
    "        sheet.range('G'+str(row)).formula = f'=AVERAGE(D{row-7}:D{row})'\n",
    "        book.save()\n",
    "    \n",
    "    if load_sheet_delete == True:\n",
    "        os.remove(r'C:\\Users\\runru\\Downloads\\sentiment.xls')"
   ]
  },
  {
   "cell_type": "code",
   "execution_count": 108,
   "metadata": {},
   "outputs": [],
   "source": [
    "def GET_NAAIM():\n",
    "    book = xw.Book('data/Contrarian_Indicators.xlsx')\n",
    "    sheet = book.sheets['NAAIM']\n",
    "    last_row = int(sheet.range('A1').end('down').row)\n",
    "    sheet_lday = sheet.range(f'A{last_row}').value.date()\n",
    "    \n",
    "    text = WEB_SCRAPE(url='https://www.naaim.org/programs/naaim-exposure-index/',\n",
    "                      css_selector='#surveydata > tbody')\n",
    "    data = pd.DataFrame(data=[row.split(' ') for row in text.split('\\n')][1:],\n",
    "                        columns=sheet.range('A1:H1').value)\n",
    "    data['Date'] = [day.date() for day in pd.to_datetime(data['Date'])]\n",
    "    \n",
    "    add_data = data[data['Date'] > sheet_lday].sort_values(by=['Date'])\n",
    "    sheet.range(f'A{last_row+1}').value = add_data.values\n",
    "    book.save()\n",
    "    print('Added Data:\\n', add_data)  "
   ]
  },
  {
   "cell_type": "code",
   "execution_count": 77,
   "metadata": {},
   "outputs": [],
   "source": [
    "def GET_SP500_PER():\n",
    "    # Normal PER\n",
    "    N_PER = FF.WEB_SCRAPE(url='https://www.multpl.com/s-p-500-pe-ratio/table/by-month',\n",
    "                                 css_selector='#datatable > tbody')\n",
    "    data_past1 = list(i.replace(' estimate', '').replace(',', '') for i in N_PER.split('\\n')[1:14])\n",
    "    data_past1 = [item.split(' ') for item in data_past1]\n",
    "\n",
    "    # Shiller PER\n",
    "    S_PER = FF.WEB_SCRAPE(url='https://www.multpl.com/shiller-pe/table/by-month',\n",
    "                            css_selector='#datatable > tbody')\n",
    "    data_shiller = list(i.replace(' estimate', '').replace(',', '') for i in S_PER.split('\\n')[1:14])\n",
    "    \n",
    "    # change str to int or float\n",
    "    for item, shiller in zip(data_past1, data_shiller):\n",
    "        item[0] = time.strptime(item[0], '%b').tm_mon # month\n",
    "        item[1:3] = [int(x) for x in item[1:3]] # day and year\n",
    "        item[-1] = float(item[-1]) # PER\n",
    "        item.append(float(shiller.split(' ')[-1])) # add shiller PER \n",
    "    \n",
    "    # create DataFrame\n",
    "    df = pd.DataFrame(data_past1, columns=['M', 'D', 'Y', 'N_PER', 'S_PER'])    \n",
    "    # add new column 'Date'\n",
    "    df.insert(loc=0, column='Date', \n",
    "              value=[datetime.date(y, m, d) for (y,m,d) in zip(df.Y, df.M, df.D)])\n",
    "    # sorted by 'Date'\n",
    "    df.sort_values('Date', inplace=True, ignore_index=True)\n",
    "    # drop unnessary columns\n",
    "    df.drop(['M', 'D', 'Y'], axis=1, inplace=True)\n",
    "    \n",
    "    # read excel file as pd.DataFrame\n",
    "    original = pd.read_excel(io='data/Contrarian_Indicators.xlsx',\n",
    "                             sheet_name='SP500_PER') \n",
    "    # get location\n",
    "    location = original[original['Date'] == df['Date'][0].strftime(\"%Y-%m-%d\")].index\n",
    "    \n",
    "    # open excel file\n",
    "    PER_excel = xw.Book(fullname='data/Contrarian_Indicators.xlsx')\n",
    "    # open excel sheet: 'SP500_PER'\n",
    "    PER_sheet = PER_excel.sheets['SP500_PER']\n",
    "    # change/add the value\n",
    "    PER_sheet.range(f'A{int(location.values)+2}').value = df.values\n",
    "    PER_excel.save()\n",
    "    \n",
    "    print('Past 1 year data:')\n",
    "    return df"
   ]
  },
  {
   "cell_type": "code",
   "execution_count": null,
   "metadata": {},
   "outputs": [],
   "source": [
    "def GET_MARGIN_DEBT():\n",
    "    \"\"\"\n",
    "    Reference -> https://www.finra.org/investors/learn-to-invest/advanced-investing/margin-statistics\n",
    "    \"\"\"\n",
    "    book = xw.Book('data/Contrarian_Indicators.xlsx')\n",
    "    sheet = book.sheets['Margin_Debt']\n",
    "    last_row = int(sheet.range('A1').end('down').row)\n",
    "    last_date = sheet.range(f'A{last_row}').value.date()\n",
    "    \n",
    "    text = WEB_SCRAPE(url='https://www.finra.org/investors/learn-to-invest/advanced-investing/margin-statistics',\n",
    "                      css_selector='#block-finra-bootstrap-sass-system-main > div > article > div > div > div:nth-child(4) > div > div > div > div > div > table:nth-child(5) > tbody')\n",
    "    data = [row.split(' ') for row in text.split('\\n')]\n",
    "    latest_data = data[-1]\n",
    "    print(\"Latest data:\\n\", latest_data)\n",
    "    \n",
    "    if latest_data[0] == last_date.strftime('%b-%y'):\n",
    "        print('\\nYour excel sheet is the latest version, or the margin debt data is not updated.\\n')\n",
    "        return\n",
    "    \n",
    "    new_date = last_date + relativedelta(months=1)\n",
    "    sheet.range(f'A{last_row+1}').value = new_date.strftime('%b %Y')\n",
    "    sheet.range(f'B{last_row+1}').value = latest_data[1]\n",
    "    book.save()"
   ]
  },
  {
   "cell_type": "markdown",
   "metadata": {},
   "source": [
    "# Web Scraping Idea"
   ]
  },
  {
   "cell_type": "code",
   "execution_count": 4,
   "metadata": {},
   "outputs": [],
   "source": [
    "from selenium import webdriver\n",
    "from selenium.webdriver.chrome.options import Options\n",
    "from webdriver_manager.chrome import ChromeDriverManager\n",
    "from selenium.webdriver.common.by import By\n",
    "from selenium.webdriver.common.keys import Keys\n",
    "import chromedriver_binary\n",
    "\n",
    "options = Options()\n",
    "options.add_argument('--disable-extensions');\n",
    "options.add_argument('--proxy-server=\"direct://\"');\n",
    "options.add_argument('--proxy-bypass-list=*');\n",
    "options.add_argument('--start-maximized');\n",
    "options. add_experimental_option('excludeSwitches', ['enable-logging']);"
   ]
  },
  {
   "cell_type": "code",
   "execution_count": 5,
   "metadata": {},
   "outputs": [],
   "source": [
    "def WEB_SCRAPE(url: str, css_selector: str):\n",
    "    \"\"\"\n",
    "    Extract data and return it as a text format\n",
    "    \"\"\"    \n",
    "    driver = webdriver.Chrome(ChromeDriverManager().install(), options=options)\n",
    "    driver.implicitly_wait(3)\n",
    "    driver.get(url)\n",
    "    element = driver.find_element(by=By.CSS_SELECTOR, value=css_selector)\n",
    "    text = element.text\n",
    "    time.sleep(2.5)\n",
    "    driver.close()\n",
    "    return text"
   ]
  },
  {
   "cell_type": "code",
   "execution_count": null,
   "metadata": {},
   "outputs": [],
   "source": [
    "# Option1:\n",
    "url = '' # filling out the url that you want to scrape \n",
    "driver = Selenium(url)\n",
    "\n",
    "# retrieve the given point in the webpage that is stored in \"driver\"\n",
    "css_selector = 'body > main > div > section > div.wrapme > div:nth-child(1) > div:nth-child(2)'\n",
    "element = driver.find_element(by=By.CSS_SELECTOR, value=css_selector)\n",
    "text = element.text \n",
    "print(text)"
   ]
  },
  {
   "cell_type": "code",
   "execution_count": null,
   "metadata": {},
   "outputs": [],
   "source": [
    "# Option2:\n",
    "url = 'https://www.google.com/'\n",
    "driver = Selenium(url)\n",
    "\n",
    "search = driver.find_element(by=By.NAME, value='q')\n",
    "search.send_keys('https://www.aaii.com/files/surveys/sentiment.xls')\n",
    "search.send_keys(Keys.RETURN)\n",
    "time.sleep(random.choice([i for i in range(5, 11)]))\n",
    "selector = '#rso > div:nth-child(1) > div > div:nth-child(1) > div > div > div.NJo7tc.Z26q7c.jGGQ5e > div > a'\n",
    "element = driver.find_element(by=By.CSS_SELECTOR, value=selector)\n",
    "element.click()"
   ]
  },
  {
   "cell_type": "code",
   "execution_count": null,
   "metadata": {},
   "outputs": [],
   "source": []
  }
 ],
 "metadata": {
  "hide_input": false,
  "kernelspec": {
   "display_name": "Python 3 (ipykernel)",
   "language": "python",
   "name": "python3"
  },
  "language_info": {
   "codemirror_mode": {
    "name": "ipython",
    "version": 3
   },
   "file_extension": ".py",
   "mimetype": "text/x-python",
   "name": "python",
   "nbconvert_exporter": "python",
   "pygments_lexer": "ipython3",
   "version": "3.11.9"
  },
  "toc": {
   "base_numbering": 1,
   "nav_menu": {},
   "number_sections": true,
   "sideBar": true,
   "skip_h1_title": false,
   "title_cell": "Table of Contents",
   "title_sidebar": "Contents",
   "toc_cell": true,
   "toc_position": {
    "height": "calc(100% - 180px)",
    "left": "10px",
    "top": "150px",
    "width": "165px"
   },
   "toc_section_display": true,
   "toc_window_display": true
  }
 },
 "nbformat": 4,
 "nbformat_minor": 4
}
